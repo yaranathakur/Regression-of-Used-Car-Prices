{
 "cells": [
  {
   "cell_type": "code",
   "execution_count": 1,
   "id": "5ad96906-a55c-4027-95ec-7829da6f2012",
   "metadata": {},
   "outputs": [],
   "source": [
    "import pandas as pd"
   ]
  },
  {
   "cell_type": "code",
   "execution_count": 2,
   "id": "ba9dd80f-bf63-4183-88ee-459d0ed1f3f8",
   "metadata": {},
   "outputs": [
    {
     "data": {
      "text/html": [
       "<div>\n",
       "<style scoped>\n",
       "    .dataframe tbody tr th:only-of-type {\n",
       "        vertical-align: middle;\n",
       "    }\n",
       "\n",
       "    .dataframe tbody tr th {\n",
       "        vertical-align: top;\n",
       "    }\n",
       "\n",
       "    .dataframe thead th {\n",
       "        text-align: right;\n",
       "    }\n",
       "</style>\n",
       "<table border=\"1\" class=\"dataframe\">\n",
       "  <thead>\n",
       "    <tr style=\"text-align: right;\">\n",
       "      <th></th>\n",
       "      <th>id</th>\n",
       "      <th>brand</th>\n",
       "      <th>model</th>\n",
       "      <th>model_year</th>\n",
       "      <th>milage</th>\n",
       "      <th>fuel_type</th>\n",
       "      <th>engine</th>\n",
       "      <th>transmission</th>\n",
       "      <th>ext_col</th>\n",
       "      <th>int_col</th>\n",
       "      <th>accident</th>\n",
       "      <th>clean_title</th>\n",
       "      <th>price</th>\n",
       "    </tr>\n",
       "  </thead>\n",
       "  <tbody>\n",
       "    <tr>\n",
       "      <th>0</th>\n",
       "      <td>0</td>\n",
       "      <td>MINI</td>\n",
       "      <td>Cooper S Base</td>\n",
       "      <td>2007</td>\n",
       "      <td>213000</td>\n",
       "      <td>Gasoline</td>\n",
       "      <td>172.0HP 1.6L 4 Cylinder Engine Gasoline Fuel</td>\n",
       "      <td>A/T</td>\n",
       "      <td>Yellow</td>\n",
       "      <td>Gray</td>\n",
       "      <td>None reported</td>\n",
       "      <td>Yes</td>\n",
       "      <td>4200</td>\n",
       "    </tr>\n",
       "    <tr>\n",
       "      <th>1</th>\n",
       "      <td>1</td>\n",
       "      <td>Lincoln</td>\n",
       "      <td>LS V8</td>\n",
       "      <td>2002</td>\n",
       "      <td>143250</td>\n",
       "      <td>Gasoline</td>\n",
       "      <td>252.0HP 3.9L 8 Cylinder Engine Gasoline Fuel</td>\n",
       "      <td>A/T</td>\n",
       "      <td>Silver</td>\n",
       "      <td>Beige</td>\n",
       "      <td>At least 1 accident or damage reported</td>\n",
       "      <td>Yes</td>\n",
       "      <td>4999</td>\n",
       "    </tr>\n",
       "    <tr>\n",
       "      <th>2</th>\n",
       "      <td>2</td>\n",
       "      <td>Chevrolet</td>\n",
       "      <td>Silverado 2500 LT</td>\n",
       "      <td>2002</td>\n",
       "      <td>136731</td>\n",
       "      <td>E85 Flex Fuel</td>\n",
       "      <td>320.0HP 5.3L 8 Cylinder Engine Flex Fuel Capab...</td>\n",
       "      <td>A/T</td>\n",
       "      <td>Blue</td>\n",
       "      <td>Gray</td>\n",
       "      <td>None reported</td>\n",
       "      <td>Yes</td>\n",
       "      <td>13900</td>\n",
       "    </tr>\n",
       "    <tr>\n",
       "      <th>3</th>\n",
       "      <td>3</td>\n",
       "      <td>Genesis</td>\n",
       "      <td>G90 5.0 Ultimate</td>\n",
       "      <td>2017</td>\n",
       "      <td>19500</td>\n",
       "      <td>Gasoline</td>\n",
       "      <td>420.0HP 5.0L 8 Cylinder Engine Gasoline Fuel</td>\n",
       "      <td>Transmission w/Dual Shift Mode</td>\n",
       "      <td>Black</td>\n",
       "      <td>Black</td>\n",
       "      <td>None reported</td>\n",
       "      <td>Yes</td>\n",
       "      <td>45000</td>\n",
       "    </tr>\n",
       "    <tr>\n",
       "      <th>4</th>\n",
       "      <td>4</td>\n",
       "      <td>Mercedes-Benz</td>\n",
       "      <td>Metris Base</td>\n",
       "      <td>2021</td>\n",
       "      <td>7388</td>\n",
       "      <td>Gasoline</td>\n",
       "      <td>208.0HP 2.0L 4 Cylinder Engine Gasoline Fuel</td>\n",
       "      <td>7-Speed A/T</td>\n",
       "      <td>Black</td>\n",
       "      <td>Beige</td>\n",
       "      <td>None reported</td>\n",
       "      <td>Yes</td>\n",
       "      <td>97500</td>\n",
       "    </tr>\n",
       "  </tbody>\n",
       "</table>\n",
       "</div>"
      ],
      "text/plain": [
       "   id          brand              model  model_year  milage      fuel_type  \\\n",
       "0   0           MINI      Cooper S Base        2007  213000       Gasoline   \n",
       "1   1        Lincoln              LS V8        2002  143250       Gasoline   \n",
       "2   2      Chevrolet  Silverado 2500 LT        2002  136731  E85 Flex Fuel   \n",
       "3   3        Genesis   G90 5.0 Ultimate        2017   19500       Gasoline   \n",
       "4   4  Mercedes-Benz        Metris Base        2021    7388       Gasoline   \n",
       "\n",
       "                                              engine  \\\n",
       "0       172.0HP 1.6L 4 Cylinder Engine Gasoline Fuel   \n",
       "1       252.0HP 3.9L 8 Cylinder Engine Gasoline Fuel   \n",
       "2  320.0HP 5.3L 8 Cylinder Engine Flex Fuel Capab...   \n",
       "3       420.0HP 5.0L 8 Cylinder Engine Gasoline Fuel   \n",
       "4       208.0HP 2.0L 4 Cylinder Engine Gasoline Fuel   \n",
       "\n",
       "                     transmission ext_col int_col  \\\n",
       "0                             A/T  Yellow    Gray   \n",
       "1                             A/T  Silver   Beige   \n",
       "2                             A/T    Blue    Gray   \n",
       "3  Transmission w/Dual Shift Mode   Black   Black   \n",
       "4                     7-Speed A/T   Black   Beige   \n",
       "\n",
       "                                 accident clean_title  price  \n",
       "0                           None reported         Yes   4200  \n",
       "1  At least 1 accident or damage reported         Yes   4999  \n",
       "2                           None reported         Yes  13900  \n",
       "3                           None reported         Yes  45000  \n",
       "4                           None reported         Yes  97500  "
      ]
     },
     "execution_count": 2,
     "metadata": {},
     "output_type": "execute_result"
    }
   ],
   "source": [
    "df = pd.read_csv(\"car.csv\")\n",
    "df.head(5)"
   ]
  },
  {
   "cell_type": "code",
   "execution_count": 3,
   "id": "ecb911e7-520c-4349-8b43-4c1eef6fc8eb",
   "metadata": {},
   "outputs": [],
   "source": [
    "df[\"engine_hp\"] = df[\"engine\"].str.split(\" \").str[0]"
   ]
  },
  {
   "cell_type": "code",
   "execution_count": 4,
   "id": "bb2246a3-8a22-4de6-8fe0-23d7c9a0c9a4",
   "metadata": {},
   "outputs": [],
   "source": [
    "df[\"engine_hp\"] = df[\"engine\"].str.extract(r\"(\\d+\\.?\\d*)HP\").astype(\"float\")"
   ]
  },
  {
   "cell_type": "code",
   "execution_count": 5,
   "id": "f0f2bb54-fe96-4b4b-afbb-51f9187ff301",
   "metadata": {},
   "outputs": [],
   "source": [
    "df[\"disp\"] = df[\"engine\"].str.extract(r\"(\\d+\\.?\\d*)L\").astype(\"float\")"
   ]
  },
  {
   "cell_type": "code",
   "execution_count": 6,
   "id": "c90ec1aa-e18e-4cb1-8e94-67d73af97a84",
   "metadata": {},
   "outputs": [],
   "source": [
    "df[\"cylinder\"] = df[\"engine\"].str.split(\"Cylinder\").str[0].str.strip().str.split(\" \").str[-1]"
   ]
  },
  {
   "cell_type": "code",
   "execution_count": 7,
   "id": "334ed897-e9c6-4637-a78e-38990baf38c1",
   "metadata": {},
   "outputs": [],
   "source": [
    "col = ['Turbo', 'System', 'DOHC', 'OHV',\n",
    "       'Standard', 'Hybrid', 'Fuel', 'Electric', 'Liter', 'TFSI',\n",
    "       'Supercharged', 'Diesel', '–', 'L/406', 'SOHC',\n",
    "       'Battery', 'GTDI', 'L/122', '4.0L', 'ULEV', 'I4', '2.5L',\n",
    "       'TSI', 'T/C', '3.0L', 'AH', '(697V)', 'Motors']"
   ]
  },
  {
   "cell_type": "code",
   "execution_count": 8,
   "id": "6d4b73ce-a749-47c5-9350-9cc533236e0d",
   "metadata": {},
   "outputs": [],
   "source": [
    "for i in col:\n",
    "    df[\"cylinder\"] = df[\"cylinder\"].str.replace(i,\"other\")"
   ]
  },
  {
   "cell_type": "code",
   "execution_count": 9,
   "id": "376228c8-4b0d-4f52-a719-760b9d7e0e78",
   "metadata": {},
   "outputs": [
    {
     "data": {
      "text/plain": [
       "cylinder\n",
       "8        52588\n",
       "V6       49441\n",
       "other    37600\n",
       "4        29051\n",
       "6        16984\n",
       "12        1266\n",
       "10         698\n",
       "5          627\n",
       "3          147\n",
       "16V        103\n",
       "V8          28\n",
       "Name: count, dtype: int64"
      ]
     },
     "execution_count": 9,
     "metadata": {},
     "output_type": "execute_result"
    }
   ],
   "source": [
    "df[\"cylinder\"].value_counts()"
   ]
  },
  {
   "cell_type": "code",
   "execution_count": 10,
   "id": "41d528eb-a578-438c-bd1c-6e68de016e78",
   "metadata": {},
   "outputs": [
    {
     "data": {
      "text/plain": [
       "id                  0\n",
       "brand               0\n",
       "model               0\n",
       "model_year          0\n",
       "milage              0\n",
       "fuel_type        5083\n",
       "engine              0\n",
       "transmission        0\n",
       "ext_col             0\n",
       "int_col             0\n",
       "accident         2452\n",
       "clean_title     21419\n",
       "price               0\n",
       "engine_hp       33259\n",
       "disp            14214\n",
       "cylinder            0\n",
       "dtype: int64"
      ]
     },
     "execution_count": 10,
     "metadata": {},
     "output_type": "execute_result"
    }
   ],
   "source": [
    "df.isna().sum()"
   ]
  },
  {
   "cell_type": "code",
   "execution_count": 16,
   "id": "eb1dd62f-bf9d-4631-bad0-5b60a0b719b5",
   "metadata": {},
   "outputs": [
    {
     "data": {
      "text/plain": [
       "transmission\n",
       "A/T             49904\n",
       "Automatic       33002\n",
       "8-Speed A/T     20645\n",
       "6-Speed A/T     18044\n",
       "6-Speed M/T     11998\n",
       "7-Speed A/T     11124\n",
       "8 Automatic      8993\n",
       "10-Speed A/T     8044\n",
       "9-Speed A/T      3866\n",
       "5-Speed A/T      3217\n",
       "10 Automatic     3204\n",
       "6 Automatic      2961\n",
       "4-Speed A/T      2546\n",
       "5-Speed M/T      2409\n",
       "9 Automatic      2358\n",
       "1-Speed A/T      1869\n",
       "7 Automatic      1368\n",
       "M/T              1179\n",
       "1 Automatic       365\n",
       "7-Speed M/T       355\n",
       "6 Manual          275\n",
       "7 Manual          180\n",
       "Other             174\n",
       "5 Automatic       159\n",
       "2 Manual           91\n",
       "2-Speed A/T        71\n",
       "4 Automatic        48\n",
       "8 Manual           28\n",
       "Manual             27\n",
       "2 Automatic        22\n",
       "8-SPEED A/T         7\n",
       "Name: count, dtype: int64"
      ]
     },
     "execution_count": 16,
     "metadata": {},
     "output_type": "execute_result"
    }
   ],
   "source": [
    "df[\"transmission\"].replace(\n",
    "    {\n",
    "        \"8-Speed Automatic\": \"8 Automatic\",\n",
    "        \"8-SPEED AT\": \"8 Automatic\",\n",
    "        \"8-SPEED Automatic\": \"8 Automatic\",\n",
    "        \"8-Speed Automatic with Auto-Shift\": \"8 Automatic\",\n",
    "        \"6-Speed Automatic\": \"6 Automatic\",\n",
    "        \"6-Speed Automatic with Auto-Shift\": \"6 Automatic\",\n",
    "        \"6-Speed Electronically Controlled Automatic with O\": \"6 Automatic\",\n",
    "        \"6 Speed At/Mt\": \"6 Automatic\",\n",
    "        \"6-Speed Manual\": \"6 Manual\",\n",
    "        \"6-Speed\": \"6 Manual\",\n",
    "        \"6 Speed Mt\": \"6 Manual\",\n",
    "        \"7-Speed Automatic\": \"7 Automatic\",\n",
    "        \"7-Speed Automatic with Auto-Shift\": \"7 Automatic\",\n",
    "        \"7-Speed DCT Automatic\": \"7 Automatic\",\n",
    "        \"10-Speed Automatic\": \"10 Automatic\",\n",
    "        \"10-Speed Automatic with Overdrive\": \"10 Automatic\",\n",
    "        \"9-Speed Automatic\": \"9 Automatic\",\n",
    "        \"9-Speed Automatic with Auto-Shift\": \"9 Automatic\",\n",
    "        \"5-Speed Automatic\": \"5 Automatic\",\n",
    "        \"4-Speed Automatic\": \"4 Automatic\",\n",
    "        \"5-Speed Manual\": \"5 Manual\",\n",
    "        \"1-Speed Automatic\": \"1 Automatic\",\n",
    "        \"CVT Transmission\": \"Automatic\",\n",
    "        \"Automatic CVT\": \"Automatic\",\n",
    "        \"CVT-F\": \"Automatic\",\n",
    "        \"7-Speed Manual\": \"7 Manual\",\n",
    "        \"2-Speed Automatic\": \"2 Automatic\",\n",
    "        \"2\": \"2 Manual\",\n",
    "        \"8-Speed Manual\": \"8 Manual\",\n",
    "        \"Transmission w/Dual Shift Mode\": \"Automatic\",\n",
    "        \"–\": \"Other\",\n",
    "        \"Variable\": \"Automatic\",\n",
    "        \"Transmission Overdrive Switch\": \"Automatic\",\n",
    "        \"Single-Speed Fixed Gear\": \"Other\",\n",
    "        \"SCHEDULED FOR OR IN PRODUCTION\": \"Other\",\n",
    "        \"F\": \"Other\",\n",
    "        \"7-Speed\": \"7 Manual\",\n",
    "    }\n",
    ")\n",
    "\n",
    "df[\"transmission\"].value_counts()"
   ]
  },
  {
   "cell_type": "code",
   "execution_count": null,
   "id": "fc92e6a2-e2ab-4c21-bdc6-4693702458e4",
   "metadata": {},
   "outputs": [],
   "source": []
  }
 ],
 "metadata": {
  "kernelspec": {
   "display_name": "Python 3 (ipykernel)",
   "language": "python",
   "name": "python3"
  },
  "language_info": {
   "codemirror_mode": {
    "name": "ipython",
    "version": 3
   },
   "file_extension": ".py",
   "mimetype": "text/x-python",
   "name": "python",
   "nbconvert_exporter": "python",
   "pygments_lexer": "ipython3",
   "version": "3.12.5"
  }
 },
 "nbformat": 4,
 "nbformat_minor": 5
}
